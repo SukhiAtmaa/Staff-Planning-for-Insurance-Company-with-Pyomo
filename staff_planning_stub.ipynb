{
  "cells": [
    {
      "cell_type": "markdown",
      "source": [
        "# **Staff Planning for Insurance Company**\n",
        "#### **By Shivndra Anupam, Sangeeta Das & Sukhada Karale**\n",
        "An insurance company needs help in finding the optimal number of staff they need for the insurance application approval process. In the industry, the Full-Time Equivalent(FTE) of the staff is considered a continuous variable.\n",
        "\n",
        "This company operates in three states: A, B, and C whose data has been provided in the file Staffing+Data.xlsx\n",
        "\n",
        "The objective is to optimize the total cost of the application approval process with the conditions mentioned below:\n",
        "\n",
        "\n",
        "*   The company can either handle an application with the staff that they hire or outsource it to a vendor. Assume that there is no capacity limitation to outsourcing.\n",
        "\n",
        "*   If they hire staff, he/she can handle 40 insurance applications per month when he/she works 100% of the workdays. However, there are days that he/she will be unavailable to process applications due to training, off days, etc.\n",
        "\n",
        "\n",
        "*   States A and B have a regulatory restriction that the outsourced insurance applications cannot be more than 30% and 40% of the total number of applications for each month, respectively.\n",
        "\n",
        "\n",
        "\n",
        "\n"
      ],
      "metadata": {
        "id": "zLC1gnMGxmJL"
      }
    },
    {
      "cell_type": "code",
      "execution_count": null,
      "metadata": {
        "id": "B1yWjqSxI-ez"
      },
      "outputs": [],
      "source": [
        "# Importing Libraries \n",
        "!pip install -q pyomo\n",
        "!apt-get install -y -qq coinor-cbc\n",
        "!apt-get install -y -qq glpk-utils\n",
        "import pandas as pd\n",
        "import numpy as np\n",
        "import math\n",
        "from pyomo.environ import *"
      ]
    },
    {
      "cell_type": "code",
      "source": [
        "from google.colab import drive\n",
        "drive.mount('/content/gdrive')"
      ],
      "metadata": {
        "colab": {
          "base_uri": "https://localhost:8080/"
        },
        "id": "msxxazb21Xfl",
        "outputId": "5d5bb852-658b-4351-c1cd-29fd84fa04b0"
      },
      "execution_count": null,
      "outputs": [
        {
          "output_type": "stream",
          "name": "stdout",
          "text": [
            "Drive already mounted at /content/gdrive; to attempt to forcibly remount, call drive.mount(\"/content/gdrive\", force_remount=True).\n"
          ]
        }
      ]
    },
    {
      "cell_type": "code",
      "execution_count": null,
      "metadata": {
        "id": "6r4wY2HVI-e5"
      },
      "outputs": [],
      "source": [
        "from __future__ import division\n",
        "from pyomo.opt import SolverFactory"
      ]
    },
    {
      "cell_type": "code",
      "execution_count": null,
      "metadata": {
        "id": "9QEySO_GI-e7"
      },
      "outputs": [],
      "source": [
        "# Reading the data from Excel workbook\n",
        "path = '/content/gdrive/MyDrive/Colab Notebooks/Staffing+Data.xlsx'\n",
        "\n",
        "#Dataframe of the Demand for company in all states\n",
        "State_Demand = pd.read_excel(path, sheet_name = 'DemandData')\n",
        "#Dataframe of Staff Availability\n",
        "Staff_Availability = pd.read_excel(path, sheet_name = 'StaffAvailability')\n",
        "#Dataframe of Cost of staffing\n",
        "Cost = pd.read_excel(path, sheet_name = 'Cost')\n",
        "#Dataframe of Service Rate\n",
        "Service_Rate = pd.read_excel(path, sheet_name = 'ServiceRate')"
      ]
    },
    {
      "cell_type": "markdown",
      "metadata": {
        "id": "EjWEqpoVI-e8"
      },
      "source": [
        "## Data pre-processing "
      ]
    },
    {
      "cell_type": "code",
      "execution_count": null,
      "metadata": {
        "id": "5Hd4bLgZI-e_"
      },
      "outputs": [],
      "source": [
        "# Create the required Python data structures for indexes and parameters\n",
        "# Create a Dictionary object Demand with index: 'State' and 'Month' and Value as \"Demand\" column from the State_Demand Dataframe\n",
        "Demand = State_Demand.set_index(['State','Month'])['Demand'].to_dict()\n",
        "# Create a Dictionary object FTE_Sallary with index: 'State' and 'Month' and Value as \"MonthlySalary\" column from the State_Demand Dataframe\n",
        "FTE_Sallary = Cost.set_index(['State','Month'])['MonthlySalary'].to_dict()\n",
        "# Create a Dictionary object OutSourceCost with index: 'State' and 'Month' and Value as \"UnitOutSourceCost\" column from the cost Dataframe\n",
        "UnitOutSourceCost = Cost.set_index(['State','Month'])['UnitOutSourceCost'].to_dict()\n",
        "#Defining service rate per month\n",
        "FTE_AppServRate = 40\n",
        "\n",
        "#Defining Staff Aviaibility with indexes\n",
        "StaffAvPer = Staff_Availability.set_index(['State','Month'])['StaffAvPer'].to_dict()\n",
        "StaffAv_LB = Staff_Availability.set_index(['State','Month'])['LB'].to_dict()\n",
        "StaffAv_UB = Staff_Availability.set_index(['State','Month'])['UB'].to_dict()\n",
        "\n",
        "#Getting unique values\n",
        "State = Cost['State'].unique()\n",
        "Month = Cost['Month'].unique()"
      ]
    },
    {
      "cell_type": "markdown",
      "metadata": {
        "id": "9OSaUvMYI-fA"
      },
      "source": [
        "# Question 1\n",
        "\n",
        "The company wants to know the optimised staffing recommendations for the business case described. \n",
        "Write the mathematical model for the deterministic optimisation problem. Define and explain your decision variables, objective function and the constraint. (Hint: Use months of the year as the model timeline).\n",
        "\n"
      ]
    },
    {
      "cell_type": "code",
      "execution_count": null,
      "metadata": {
        "id": "GhAKKMkII-fB"
      },
      "outputs": [],
      "source": [
        "#Answered in the report"
      ]
    },
    {
      "cell_type": "markdown",
      "metadata": {
        "id": "u0pAI2m4I-fB"
      },
      "source": [
        "**Note:** You can write the mathematical formulation directly in your report."
      ]
    },
    {
      "cell_type": "markdown",
      "metadata": {
        "id": "-YH2jx39I-fC"
      },
      "source": [
        "# Question 2\n",
        "\n",
        "Code the problem is Python and use any optimization package to solve it. Add comments to your code to explain each step. "
      ]
    },
    {
      "cell_type": "markdown",
      "metadata": {
        "id": "y2tJAYDWI-fD"
      },
      "source": [
        "#### Expected output:\n",
        "\n",
        "Create a data frame containing the number of outsourced applications  and the number of FTEs for each state-month combination. You can choose to have extra columns like staff availability, demand etc. in your dataframe apart from the ones mentioned earlier. "
      ]
    },
    {
      "cell_type": "code",
      "execution_count": null,
      "metadata": {
        "id": "6hGx8NCQI-fE"
      },
      "outputs": [],
      "source": [
        "# Creating a model instance\n",
        "model = ConcreteModel()"
      ]
    },
    {
      "cell_type": "code",
      "source": [
        "# Define Pyomo sets and Parameters\n",
        "model.S = Set(initialize=State.tolist(),doc='States')\n",
        "model.M = Set(initialize=Month.tolist(),doc='Months')\n",
        "model.demand = Param(model.S,model.M,initialize = Demand,doc='Demand')\n",
        "model.sa = Param(model.S,model.M,initialize = StaffAvPer,doc = 'StaffAvPercent')"
      ],
      "metadata": {
        "id": "c6_yqhoOKaXg"
      },
      "execution_count": null,
      "outputs": []
    },
    {
      "cell_type": "markdown",
      "source": [
        "Decision variables\n",
        "\n",
        "FTE-S,M where S∈State M∈Month \n",
        "\n",
        "Outsourcing-S,M where S∈State M∈Month "
      ],
      "metadata": {
        "id": "DPyVOzTsKzJR"
      }
    },
    {
      "cell_type": "code",
      "execution_count": null,
      "metadata": {
        "id": "UfFXheF5I-fG"
      },
      "outputs": [],
      "source": [
        "# Decision variables\n",
        "model.F = Var(model.S,model.M,doc='No. of FTE',domain = NonNegativeReals)\n",
        "model.O = Var(model.S,model.M,doc='No of Outsource App',domain = NonNegativeIntegers)"
      ]
    },
    {
      "cell_type": "markdown",
      "source": [
        "Constraints:\n",
        "\n",
        "total_demandS,M ==  FTES,M∗40∗S and month of outsourcing\n",
        "\n",
        "Outsourcing-S,M ≤ total_demand-S,M∗0.30 for state A\n",
        "\n",
        "Outsourcing-S,M ≤ total_demand-S,M∗0.40 for state B"
      ],
      "metadata": {
        "id": "CpfSDbZwL0zR"
      }
    },
    {
      "cell_type": "code",
      "execution_count": null,
      "metadata": {
        "id": "2gOdldf5I-fG"
      },
      "outputs": [],
      "source": [
        "# Constraints\n",
        "#1. Total demand constraint:\n",
        "def total_demand(m,S,M):\n",
        "    return (m.F[S,M]*40*m.sa[S,M] + m.O[S,M] == m.demand[S,M])\n",
        "            \n",
        "model.total_demand = Constraint(model.S,model.M, rule=total_demand)\n",
        "\n",
        "#2. Outsourcing and Demand constraint:\n",
        "model.outsource_demand = ConstraintList()\n",
        "for M in model.M:\n",
        "    for S in model.S:\n",
        "        if S == 'A':\n",
        "            model.outsource_demand.add(expr = model.O[S,M] <= 0.3*model.demand[S,M])\n",
        "        elif S == 'B':\n",
        "            model.outsource_demand.add(expr = model.O[S,M] <= 0.4*model.demand[S,M])\n"
      ]
    },
    {
      "cell_type": "markdown",
      "source": [
        "Objective Function\n",
        "\n",
        "min∑(FTE-S,M ∗ FTE_Salary-S,M   +   Outsourcing-S,M ∗ Outsourcing_Salary-S,M)"
      ],
      "metadata": {
        "id": "wlLZ6wZuN4oS"
      }
    },
    {
      "cell_type": "code",
      "execution_count": null,
      "metadata": {
        "id": "s8rTL_XSI-fH"
      },
      "outputs": [],
      "source": [
        "# Objective function\n",
        "model.value = Objective(expr = sum(sum(model.F[S,M]*FTE_Sallary[S,M] + model.O[S,M]*UnitOutSourceCost[S,M] for S in model.S) for M in model.M), sense= minimize)"
      ]
    },
    {
      "cell_type": "code",
      "execution_count": null,
      "metadata": {
        "id": "HB0y3bKCI-fH",
        "colab": {
          "base_uri": "https://localhost:8080/"
        },
        "outputId": "d3eec2d7-5eb2-4780-ac06-bf46c6b25988"
      },
      "outputs": [
        {
          "output_type": "stream",
          "name": "stdout",
          "text": [
            "GLPSOL: GLPK LP/MIP Solver, v4.65\n",
            "Parameter(s) specified in the command line:\n",
            " --write /tmp/tmp3oqdqt0l.glpk.raw --wglp /tmp/tmpn1hq2drg.glpk.glp --cpxlp\n",
            " /tmp/tmpmyqi33h9.pyomo.lp\n",
            "Reading problem data from '/tmp/tmpmyqi33h9.pyomo.lp'...\n",
            "61 rows, 73 columns, 97 non-zeros\n",
            "36 integer variables, none of which are binary\n",
            "469 lines were read\n",
            "Writing problem data to '/tmp/tmpn1hq2drg.glpk.glp'...\n",
            "440 lines were written\n",
            "GLPK Integer Optimizer, v4.65\n",
            "61 rows, 73 columns, 97 non-zeros\n",
            "36 integer variables, none of which are binary\n",
            "Preprocessing...\n",
            "Objective value =   1.796233645e+07\n",
            "INTEGER OPTIMAL SOLUTION FOUND BY MIP PREPROCESSOR\n",
            "Time used:   0.0 secs\n",
            "Memory used: 0.1 Mb (72516 bytes)\n",
            "Writing MIP solution to '/tmp/tmp3oqdqt0l.glpk.raw'...\n",
            "143 lines were written\n",
            "# ==========================================================\n",
            "# = Solver Results                                         =\n",
            "# ==========================================================\n",
            "# ----------------------------------------------------------\n",
            "#   Problem Information\n",
            "# ----------------------------------------------------------\n",
            "Problem: \n",
            "- Name: unknown\n",
            "  Lower bound: 17962336.4485971\n",
            "  Upper bound: 17962336.4485971\n",
            "  Number of objectives: 1\n",
            "  Number of constraints: 61\n",
            "  Number of variables: 73\n",
            "  Number of nonzeros: 97\n",
            "  Sense: minimize\n",
            "# ----------------------------------------------------------\n",
            "#   Solver Information\n",
            "# ----------------------------------------------------------\n",
            "Solver: \n",
            "- Status: ok\n",
            "  Termination condition: optimal\n",
            "  Statistics: \n",
            "    Branch and bound: \n",
            "      Number of bounded subproblems: 0\n",
            "      Number of created subproblems: 0\n",
            "  Error rc: 0\n",
            "  Time: 0.020164966583251953\n",
            "# ----------------------------------------------------------\n",
            "#   Solution Information\n",
            "# ----------------------------------------------------------\n",
            "Solution: \n",
            "- number of solutions: 0\n",
            "  number of solutions displayed: 0\n"
          ]
        }
      ],
      "source": [
        "# Invoking the solver\n",
        "result = SolverFactory('glpk').solve(model, tee=True)\n",
        "result.write()"
      ]
    },
    {
      "cell_type": "code",
      "execution_count": null,
      "metadata": {
        "id": "4dUKKNTfI-fI",
        "colab": {
          "base_uri": "https://localhost:8080/"
        },
        "outputId": "efdfe376-2138-4c63-edc7-286a8c123023"
      },
      "outputs": [
        {
          "output_type": "stream",
          "name": "stdout",
          "text": [
            "17962336.44859711\n",
            "\n",
            "\n",
            " Seems like the company has to spend around (17.962336, 2)m$ in total for the application approval process.\n"
          ]
        }
      ],
      "source": [
        "# Print the value of the objective function\n",
        "optimized_cost = model.value()\n",
        "print(optimized_cost)\n",
        "print(\"\\n\\n Seems like the company has to spend around {}m$ in total for the application approval process.\" .format((round(optimized_cost)/1000000,2)))"
      ]
    },
    {
      "cell_type": "markdown",
      "metadata": {
        "id": "Lf6FMUDKI-fI"
      },
      "source": [
        "**`Checkpoint 1:`** Seems like the company has to spend around 17.9 m$ in total for the application approval process."
      ]
    },
    {
      "cell_type": "code",
      "execution_count": null,
      "metadata": {
        "id": "iqa3eePKI-fJ"
      },
      "outputs": [],
      "source": [
        "# Creating dataframe for the results\n",
        "#Creating an empty list\n",
        "Output_optimised = []\n",
        "\n",
        "\n",
        "for S in model.S:\n",
        "    for M in model.M:\n",
        "        \n",
        "        #cost for the application approval process\n",
        "        no_of_fte=model.F[S,M].value\n",
        "        demand = model.demand[S,M]\n",
        "        no_of_app_processed_by_outsc = model.O[S,M].value\n",
        "        no_of_FTE_processed_app = model.F[S,M].value*40*model.sa[S,M]\n",
        "        cost = model.F[S,M].value*FTE_Sallary[S,M] + model.O[S,M].value*UnitOutSourceCost[S,M]\n",
        "        percent_outsourced_app = round((no_of_app_processed_by_outsc/demand)*100,2)\n",
        "        avg_cost_per_app = round(cost/demand,2)\n",
        "        \n",
        "        Output_optimised.append([S,M, no_of_fte,demand, no_of_app_processed_by_outsc,no_of_FTE_processed_app, cost, percent_outsourced_app,avg_cost_per_app])\n",
        "        \n",
        "Output_optimised = pd.DataFrame(Output_optimised, columns = ['State', 'Month', 'No. of FTE','Demand','Applications processed by Outsource','Applications processed by FTE' , 'Estimated Cost', 'Percent outsourced Application', 'average cost per application'])\n",
        "\n",
        "Output_optimised[['Estimated Cost in mn $']] = Output_optimised[['Estimated Cost']]/1000000\n",
        "Output_optimised['Demand'] = Output_optimised['Demand'].astype(int)\n",
        "Output_optimised['Applications processed by Outsource'] = Output_optimised['Applications processed by Outsource'].astype(int)\n",
        "Output_optimised['Applications processed by FTE'] = Output_optimised['Applications processed by FTE'].astype(int)\n",
        "Output_optimised = Output_optimised.round({\"Estimated Cost\":2, \"No. of FTE\":0, \"No. of outsource application\":0, \"Estimated Cost in mn $\":2})"
      ]
    },
    {
      "cell_type": "code",
      "source": [
        "Output_optimised.head(10)"
      ],
      "metadata": {
        "colab": {
          "base_uri": "https://localhost:8080/",
          "height": 424
        },
        "id": "RKrcaYQqvfgd",
        "outputId": "d89598e2-2dde-4072-99ee-457a8f294cbb"
      },
      "execution_count": null,
      "outputs": [
        {
          "output_type": "execute_result",
          "data": {
            "text/plain": [
              "  State Month  No. of FTE  Demand  Applications processed by Outsource  \\\n",
              "0     A   Jan       162.0    5240                                    0   \n",
              "1     A   Feb       160.0    4878                                    0   \n",
              "2     A   Mar       198.0    5942                                    0   \n",
              "3     A   Apr        72.0    2297                                    0   \n",
              "4     A   May        64.0    1992                                    0   \n",
              "5     A   Jun        78.0    2275                                    0   \n",
              "6     A   Jul       137.0    5334                                 1600   \n",
              "7     A   Aug       111.0    3371                                    0   \n",
              "8     A   Sep       116.0    3759                                    0   \n",
              "9     A   Oct       121.0    3529                                    0   \n",
              "\n",
              "   Applications processed by FTE  Estimated Cost  \\\n",
              "0                           5239       808641.98   \n",
              "1                           4877       802302.63   \n",
              "2                           5942       990333.33   \n",
              "3                           2297       358906.25   \n",
              "4                           1991       319230.77   \n",
              "5                           2275       389554.79   \n",
              "6                           3734       974397.06   \n",
              "7                           3371       554440.79   \n",
              "8                           3759       580092.59   \n",
              "9                           3529       604280.82   \n",
              "\n",
              "   Percent outsourced Application  average cost per application  \\\n",
              "0                             0.0                        154.32   \n",
              "1                             0.0                        164.47   \n",
              "2                             0.0                        166.67   \n",
              "3                             0.0                        156.25   \n",
              "4                             0.0                        160.26   \n",
              "5                             0.0                        171.23   \n",
              "6                            30.0                        182.68   \n",
              "7                             0.0                        164.47   \n",
              "8                             0.0                        154.32   \n",
              "9                             0.0                        171.23   \n",
              "\n",
              "   Estimated Cost in mn $  \n",
              "0                    0.81  \n",
              "1                    0.80  \n",
              "2                    0.99  \n",
              "3                    0.36  \n",
              "4                    0.32  \n",
              "5                    0.39  \n",
              "6                    0.97  \n",
              "7                    0.55  \n",
              "8                    0.58  \n",
              "9                    0.60  "
            ],
            "text/html": [
              "\n",
              "  <div id=\"df-2070af61-56af-4267-a888-e1d0679e4d27\">\n",
              "    <div class=\"colab-df-container\">\n",
              "      <div>\n",
              "<style scoped>\n",
              "    .dataframe tbody tr th:only-of-type {\n",
              "        vertical-align: middle;\n",
              "    }\n",
              "\n",
              "    .dataframe tbody tr th {\n",
              "        vertical-align: top;\n",
              "    }\n",
              "\n",
              "    .dataframe thead th {\n",
              "        text-align: right;\n",
              "    }\n",
              "</style>\n",
              "<table border=\"1\" class=\"dataframe\">\n",
              "  <thead>\n",
              "    <tr style=\"text-align: right;\">\n",
              "      <th></th>\n",
              "      <th>State</th>\n",
              "      <th>Month</th>\n",
              "      <th>No. of FTE</th>\n",
              "      <th>Demand</th>\n",
              "      <th>Applications processed by Outsource</th>\n",
              "      <th>Applications processed by FTE</th>\n",
              "      <th>Estimated Cost</th>\n",
              "      <th>Percent outsourced Application</th>\n",
              "      <th>average cost per application</th>\n",
              "      <th>Estimated Cost in mn $</th>\n",
              "    </tr>\n",
              "  </thead>\n",
              "  <tbody>\n",
              "    <tr>\n",
              "      <th>0</th>\n",
              "      <td>A</td>\n",
              "      <td>Jan</td>\n",
              "      <td>162.0</td>\n",
              "      <td>5240</td>\n",
              "      <td>0</td>\n",
              "      <td>5239</td>\n",
              "      <td>808641.98</td>\n",
              "      <td>0.0</td>\n",
              "      <td>154.32</td>\n",
              "      <td>0.81</td>\n",
              "    </tr>\n",
              "    <tr>\n",
              "      <th>1</th>\n",
              "      <td>A</td>\n",
              "      <td>Feb</td>\n",
              "      <td>160.0</td>\n",
              "      <td>4878</td>\n",
              "      <td>0</td>\n",
              "      <td>4877</td>\n",
              "      <td>802302.63</td>\n",
              "      <td>0.0</td>\n",
              "      <td>164.47</td>\n",
              "      <td>0.80</td>\n",
              "    </tr>\n",
              "    <tr>\n",
              "      <th>2</th>\n",
              "      <td>A</td>\n",
              "      <td>Mar</td>\n",
              "      <td>198.0</td>\n",
              "      <td>5942</td>\n",
              "      <td>0</td>\n",
              "      <td>5942</td>\n",
              "      <td>990333.33</td>\n",
              "      <td>0.0</td>\n",
              "      <td>166.67</td>\n",
              "      <td>0.99</td>\n",
              "    </tr>\n",
              "    <tr>\n",
              "      <th>3</th>\n",
              "      <td>A</td>\n",
              "      <td>Apr</td>\n",
              "      <td>72.0</td>\n",
              "      <td>2297</td>\n",
              "      <td>0</td>\n",
              "      <td>2297</td>\n",
              "      <td>358906.25</td>\n",
              "      <td>0.0</td>\n",
              "      <td>156.25</td>\n",
              "      <td>0.36</td>\n",
              "    </tr>\n",
              "    <tr>\n",
              "      <th>4</th>\n",
              "      <td>A</td>\n",
              "      <td>May</td>\n",
              "      <td>64.0</td>\n",
              "      <td>1992</td>\n",
              "      <td>0</td>\n",
              "      <td>1991</td>\n",
              "      <td>319230.77</td>\n",
              "      <td>0.0</td>\n",
              "      <td>160.26</td>\n",
              "      <td>0.32</td>\n",
              "    </tr>\n",
              "    <tr>\n",
              "      <th>5</th>\n",
              "      <td>A</td>\n",
              "      <td>Jun</td>\n",
              "      <td>78.0</td>\n",
              "      <td>2275</td>\n",
              "      <td>0</td>\n",
              "      <td>2275</td>\n",
              "      <td>389554.79</td>\n",
              "      <td>0.0</td>\n",
              "      <td>171.23</td>\n",
              "      <td>0.39</td>\n",
              "    </tr>\n",
              "    <tr>\n",
              "      <th>6</th>\n",
              "      <td>A</td>\n",
              "      <td>Jul</td>\n",
              "      <td>137.0</td>\n",
              "      <td>5334</td>\n",
              "      <td>1600</td>\n",
              "      <td>3734</td>\n",
              "      <td>974397.06</td>\n",
              "      <td>30.0</td>\n",
              "      <td>182.68</td>\n",
              "      <td>0.97</td>\n",
              "    </tr>\n",
              "    <tr>\n",
              "      <th>7</th>\n",
              "      <td>A</td>\n",
              "      <td>Aug</td>\n",
              "      <td>111.0</td>\n",
              "      <td>3371</td>\n",
              "      <td>0</td>\n",
              "      <td>3371</td>\n",
              "      <td>554440.79</td>\n",
              "      <td>0.0</td>\n",
              "      <td>164.47</td>\n",
              "      <td>0.55</td>\n",
              "    </tr>\n",
              "    <tr>\n",
              "      <th>8</th>\n",
              "      <td>A</td>\n",
              "      <td>Sep</td>\n",
              "      <td>116.0</td>\n",
              "      <td>3759</td>\n",
              "      <td>0</td>\n",
              "      <td>3759</td>\n",
              "      <td>580092.59</td>\n",
              "      <td>0.0</td>\n",
              "      <td>154.32</td>\n",
              "      <td>0.58</td>\n",
              "    </tr>\n",
              "    <tr>\n",
              "      <th>9</th>\n",
              "      <td>A</td>\n",
              "      <td>Oct</td>\n",
              "      <td>121.0</td>\n",
              "      <td>3529</td>\n",
              "      <td>0</td>\n",
              "      <td>3529</td>\n",
              "      <td>604280.82</td>\n",
              "      <td>0.0</td>\n",
              "      <td>171.23</td>\n",
              "      <td>0.60</td>\n",
              "    </tr>\n",
              "  </tbody>\n",
              "</table>\n",
              "</div>\n",
              "      <button class=\"colab-df-convert\" onclick=\"convertToInteractive('df-2070af61-56af-4267-a888-e1d0679e4d27')\"\n",
              "              title=\"Convert this dataframe to an interactive table.\"\n",
              "              style=\"display:none;\">\n",
              "        \n",
              "  <svg xmlns=\"http://www.w3.org/2000/svg\" height=\"24px\"viewBox=\"0 0 24 24\"\n",
              "       width=\"24px\">\n",
              "    <path d=\"M0 0h24v24H0V0z\" fill=\"none\"/>\n",
              "    <path d=\"M18.56 5.44l.94 2.06.94-2.06 2.06-.94-2.06-.94-.94-2.06-.94 2.06-2.06.94zm-11 1L8.5 8.5l.94-2.06 2.06-.94-2.06-.94L8.5 2.5l-.94 2.06-2.06.94zm10 10l.94 2.06.94-2.06 2.06-.94-2.06-.94-.94-2.06-.94 2.06-2.06.94z\"/><path d=\"M17.41 7.96l-1.37-1.37c-.4-.4-.92-.59-1.43-.59-.52 0-1.04.2-1.43.59L10.3 9.45l-7.72 7.72c-.78.78-.78 2.05 0 2.83L4 21.41c.39.39.9.59 1.41.59.51 0 1.02-.2 1.41-.59l7.78-7.78 2.81-2.81c.8-.78.8-2.07 0-2.86zM5.41 20L4 18.59l7.72-7.72 1.47 1.35L5.41 20z\"/>\n",
              "  </svg>\n",
              "      </button>\n",
              "      \n",
              "  <style>\n",
              "    .colab-df-container {\n",
              "      display:flex;\n",
              "      flex-wrap:wrap;\n",
              "      gap: 12px;\n",
              "    }\n",
              "\n",
              "    .colab-df-convert {\n",
              "      background-color: #E8F0FE;\n",
              "      border: none;\n",
              "      border-radius: 50%;\n",
              "      cursor: pointer;\n",
              "      display: none;\n",
              "      fill: #1967D2;\n",
              "      height: 32px;\n",
              "      padding: 0 0 0 0;\n",
              "      width: 32px;\n",
              "    }\n",
              "\n",
              "    .colab-df-convert:hover {\n",
              "      background-color: #E2EBFA;\n",
              "      box-shadow: 0px 1px 2px rgba(60, 64, 67, 0.3), 0px 1px 3px 1px rgba(60, 64, 67, 0.15);\n",
              "      fill: #174EA6;\n",
              "    }\n",
              "\n",
              "    [theme=dark] .colab-df-convert {\n",
              "      background-color: #3B4455;\n",
              "      fill: #D2E3FC;\n",
              "    }\n",
              "\n",
              "    [theme=dark] .colab-df-convert:hover {\n",
              "      background-color: #434B5C;\n",
              "      box-shadow: 0px 1px 3px 1px rgba(0, 0, 0, 0.15);\n",
              "      filter: drop-shadow(0px 1px 2px rgba(0, 0, 0, 0.3));\n",
              "      fill: #FFFFFF;\n",
              "    }\n",
              "  </style>\n",
              "\n",
              "      <script>\n",
              "        const buttonEl =\n",
              "          document.querySelector('#df-2070af61-56af-4267-a888-e1d0679e4d27 button.colab-df-convert');\n",
              "        buttonEl.style.display =\n",
              "          google.colab.kernel.accessAllowed ? 'block' : 'none';\n",
              "\n",
              "        async function convertToInteractive(key) {\n",
              "          const element = document.querySelector('#df-2070af61-56af-4267-a888-e1d0679e4d27');\n",
              "          const dataTable =\n",
              "            await google.colab.kernel.invokeFunction('convertToInteractive',\n",
              "                                                     [key], {});\n",
              "          if (!dataTable) return;\n",
              "\n",
              "          const docLinkHtml = 'Like what you see? Visit the ' +\n",
              "            '<a target=\"_blank\" href=https://colab.research.google.com/notebooks/data_table.ipynb>data table notebook</a>'\n",
              "            + ' to learn more about interactive tables.';\n",
              "          element.innerHTML = '';\n",
              "          dataTable['output_type'] = 'display_data';\n",
              "          await google.colab.output.renderOutput(dataTable, element);\n",
              "          const docLink = document.createElement('div');\n",
              "          docLink.innerHTML = docLinkHtml;\n",
              "          element.appendChild(docLink);\n",
              "        }\n",
              "      </script>\n",
              "    </div>\n",
              "  </div>\n",
              "  "
            ]
          },
          "metadata": {},
          "execution_count": 103
        }
      ]
    },
    {
      "cell_type": "code",
      "execution_count": null,
      "metadata": {
        "id": "gN2NAtLVI-fJ"
      },
      "outputs": [],
      "source": [
        "# Writing the results in to an Excel sheet\n",
        "path1 = '/content/gdrive/MyDrive/Colab Notebooks/Output.xlsx'\n",
        "Output_optimised.to_excel(path1, sheet_name = 'Optimised Sheet')"
      ]
    },
    {
      "cell_type": "markdown",
      "metadata": {
        "id": "W3-Zg-uxI-fJ"
      },
      "source": [
        "# Question 3\n",
        "\n",
        "#### Worst-case and best-case analysis based on the staffs' availability.\n",
        "\n",
        "Assuming that the distribution is the same across all the states,\n",
        "\n",
        "#### 3.1 Worst case analysis \n",
        "\n",
        "- 3.1.1 What is the optimal number of staff members for the worst case? \n",
        "\n",
        "- 3.1.2 What is the percentage of outsourcing for the worst case? \n",
        "\n",
        "- 3.1.3 What is the average cost per application for the worst case?\n",
        "\n",
        "\n",
        "#### 3.2 Best case analysis \n",
        "\n",
        "- 3.2.1 What is the optimal number of staff members for the best case? \n",
        "\n",
        "- 3.2.2 What is the percentage of outsourcing for the best case? \n",
        "\n",
        "- 3.2.3 What is the average cost per application for the best case?\n"
      ]
    },
    {
      "cell_type": "markdown",
      "metadata": {
        "id": "dX87egDlI-fK"
      },
      "source": [
        "#### Expected output:\n",
        "\n",
        "For each of the subtasks (3.1 and 3.2) create a data frame containing the number of outsourced applications and the number of FTEs for each state-month combination. You can choose to have extra columns like staff availability, demand etc. in your dataframe apart from the ones mentioned earlier. Also, print the overall average percentage of outsourced applications and the overall average cost per application. "
      ]
    },
    {
      "cell_type": "markdown",
      "metadata": {
        "id": "HwC0FFvqI-fM"
      },
      "source": [
        "### 3.1 Worst Case Analysis "
      ]
    },
    {
      "cell_type": "markdown",
      "metadata": {
        "id": "qC1RRzDgI-fN"
      },
      "source": [
        "#### 3.1.1 Optimal number of staff members"
      ]
    },
    {
      "cell_type": "code",
      "execution_count": null,
      "metadata": {
        "id": "zv94lweaI-fN"
      },
      "outputs": [],
      "source": [
        "# Creating a model instance\n",
        "model_worst = ConcreteModel()"
      ]
    },
    {
      "cell_type": "code",
      "execution_count": null,
      "metadata": {
        "id": "n5IK3TXpI-fN"
      },
      "outputs": [],
      "source": [
        "# Define Pyomo sets and Parameters\n",
        "model_worst.S = Set(initialize=State.tolist(),doc='States')\n",
        "model_worst.M = Set(initialize=Month.tolist(),doc='Months')\n",
        "model_worst.demand = Param(model_worst.S,model_worst.M,initialize = Demand,doc='Demand')\n",
        "model_worst.sa = Param(model_worst.S,model_worst.M,initialize = StaffAv_LB,doc = 'StaffLowerBoundPercent')"
      ]
    },
    {
      "cell_type": "code",
      "execution_count": null,
      "metadata": {
        "id": "lEr5_ehSI-fO"
      },
      "outputs": [],
      "source": [
        "# Decision variables\n",
        "model_worst.F = Var(model_worst.S,model_worst.M,doc='No. of FTE',domain = NonNegativeReals)\n",
        "model_worst.O = Var(model_worst.S,model_worst.M,doc='No of Outsource App',domain = NonNegativeIntegers)"
      ]
    },
    {
      "cell_type": "code",
      "execution_count": null,
      "metadata": {
        "id": "3Fwc_zqbI-fO"
      },
      "outputs": [],
      "source": [
        "# Constraints\n",
        "# 1. Demand Constraint\n",
        "def total_demand(m, S, M):\n",
        "    return (m.F[S,M] * 40 * m.sa[S,M] + m.O[S,M] == m.demand[S,M])\n",
        "\n",
        "\n",
        "model_worst.total_demand = Constraint(model_worst.S, model_worst.M, rule=total_demand)\n",
        "\n",
        "# . Outsource Demand Constraints\n",
        "model_worst.outsource_demand = ConstraintList()\n",
        "for M in model_worst.M:\n",
        "    for S in model_worst.S:\n",
        "        if S == 'A':\n",
        "            model_worst.outsource_demand.add(expr = model_worst.O[S,M] <= 0.3*model_worst.demand[S,M])\n",
        "        elif S == 'B':\n",
        "            model_worst.outsource_demand.add(expr = model_worst.O[S,M] <= 0.4*model_worst.demand[S,M])"
      ]
    },
    {
      "cell_type": "code",
      "execution_count": null,
      "metadata": {
        "id": "LZTiTDftI-fO"
      },
      "outputs": [],
      "source": [
        "# Objective function\n",
        "model_worst.value = Objective(expr = sum(sum(model_worst.F[S,M]*FTE_Sallary[S,M]+ model_worst.O[S,M]*UnitOutSourceCost[S,M] for S in model_worst.S) for M in model_worst.M),sense= minimize)"
      ]
    },
    {
      "cell_type": "code",
      "execution_count": null,
      "metadata": {
        "id": "-aQ4FomqI-fO",
        "colab": {
          "base_uri": "https://localhost:8080/"
        },
        "outputId": "9800a05c-c78c-4f05-fca2-aa3fd80e34d4"
      },
      "outputs": [
        {
          "output_type": "stream",
          "name": "stdout",
          "text": [
            "# ==========================================================\n",
            "# = Solver Results                                         =\n",
            "# ==========================================================\n",
            "# ----------------------------------------------------------\n",
            "#   Problem Information\n",
            "# ----------------------------------------------------------\n",
            "Problem: \n",
            "- Name: unknown\n",
            "  Lower bound: 19599482.5165589\n",
            "  Upper bound: 19599482.5165589\n",
            "  Number of objectives: 1\n",
            "  Number of constraints: 61\n",
            "  Number of variables: 73\n",
            "  Number of nonzeros: 97\n",
            "  Sense: minimize\n",
            "# ----------------------------------------------------------\n",
            "#   Solver Information\n",
            "# ----------------------------------------------------------\n",
            "Solver: \n",
            "- Status: ok\n",
            "  Termination condition: optimal\n",
            "  Statistics: \n",
            "    Branch and bound: \n",
            "      Number of bounded subproblems: 0\n",
            "      Number of created subproblems: 0\n",
            "  Error rc: 0\n",
            "  Time: 0.015285968780517578\n",
            "# ----------------------------------------------------------\n",
            "#   Solution Information\n",
            "# ----------------------------------------------------------\n",
            "Solution: \n",
            "- number of solutions: 0\n",
            "  number of solutions displayed: 0\n"
          ]
        }
      ],
      "source": [
        "# Invoking the solver\n",
        "result = SolverFactory('glpk').solve(model_worst)\n",
        "result.write()"
      ]
    },
    {
      "cell_type": "code",
      "execution_count": null,
      "metadata": {
        "id": "VaEP7hc1I-fO",
        "colab": {
          "base_uri": "https://localhost:8080/"
        },
        "outputId": "885c2e07-1fbc-4ac9-b205-9c319d3ceae2"
      },
      "outputs": [
        {
          "output_type": "stream",
          "name": "stdout",
          "text": [
            "19599482.516558886\n",
            "\n",
            "\n",
            " Seems like the company has to spend around 19.6m$ in total for the application approval process if the staffs are working with the minimum availability..\n"
          ]
        }
      ],
      "source": [
        "# Print the value of the objective function\n",
        "optimized_worst_cost = model_worst.value()\n",
        "print(optimized_worst_cost)\n",
        "print(\"\\n\\n Seems like the company has to spend around {}m$ in total for the application approval process if the staffs are working with the minimum availability..\" .format(round((optimized_worst_cost)/1000000,2)))"
      ]
    },
    {
      "cell_type": "markdown",
      "metadata": {
        "id": "vteWm8ZHI-fP"
      },
      "source": [
        "**`Checkpoint 2:`** The company has to spend around 19.6 m$ in total for the application approval process if the staffs are working with the minimum availability."
      ]
    },
    {
      "cell_type": "code",
      "execution_count": null,
      "metadata": {
        "id": "ttt9csPlI-fP",
        "colab": {
          "base_uri": "https://localhost:8080/"
        },
        "outputId": "0e86f6d7-94a7-4ca9-da44-aeb4bfc7a4d2"
      },
      "outputs": [
        {
          "output_type": "stream",
          "name": "stdout",
          "text": [
            "Total Outsourced Application:  39808\n",
            "Total Demand Application:  113294\n",
            "Optimal Staff Members :  77.0\n"
          ]
        }
      ],
      "source": [
        "# Creating dataframe for the results\n",
        "Output_worst = []\n",
        "\n",
        "for S in model_worst.S:\n",
        "    for M in model_worst.M:\n",
        "       \n",
        "        no_of_fte = model_worst.F[S,M].value\n",
        "        demand = model_worst.demand[S,M]\n",
        "        no_of_outsource_app = model_worst.O[S,M].value\n",
        "        no_of_FTE_processed_app = model_worst.F[S,M].value*40*model_worst.sa[S,M]\n",
        "        cost = model_worst.F[S,M].value*FTE_Sallary[S,M] + model_worst.O[S,M].value*UnitOutSourceCost[S,M]\n",
        "\n",
        "        percent_outsourced_app = round((no_of_outsource_app/demand)*100,1)\n",
        "        avg_cost_per_app = round(cost/demand,1)\n",
        "\n",
        "        Output_worst.append([S,M, no_of_fte,demand, no_of_outsource_app,no_of_FTE_processed_app, cost, percent_outsourced_app,avg_cost_per_app])\n",
        "       \n",
        "    \n",
        "Output_worst = pd.DataFrame(Output_worst, columns = ['State', 'Month', 'No. of FTE worst','Demand','Applications processed by Outsource-worst',\"Applications processed by FTE-worst\" , 'Estimated Cost worst', 'Percent outsourced Application worst', 'average cost per application worst'])\n",
        "\n",
        "Output_worst['Estimated Cost in mn $ worst'] = Output_worst[['Estimated Cost worst']]/1000000\n",
        "Output_worst['Demand'] = Output_worst['Demand'].astype(int)\n",
        "Output_worst['Applications processed by Outsource-worst'] = Output_worst['Applications processed by Outsource-worst'].astype(int)\n",
        "Output_worst['Applications processed by FTE-worst'] = Output_worst['Applications processed by FTE-worst'].astype(int)\n",
        "c = Output_worst.round({\"No. of FTE worst\":1, \"Applications processed by Outsource-worst\":0, \"Estimated Cost in mn $ worst\":1})\n",
        "#Output_worst[['Cost per application worst']] = Output_worst['Estimated Cost worst']/Output_worst['Demand']\n",
        "\n",
        "total_outsourcing =  sum(Output_worst['Applications processed by Outsource-worst'])\n",
        "total_cost = sum(Output_worst['Estimated Cost worst'])\n",
        "optimal_staff_members = round(Output_worst['No. of FTE worst'].mean(),0)\n",
        "\n",
        "total_demand =  sum(Output_worst['Demand'])\n",
        "average_cost_per_appln = round(total_cost/total_demand,2)\n",
        "percent_outsourced_app_total = round((total_outsourcing/total_demand)*100,1)\n",
        "print(\"Total Outsourced Application: \", total_outsourcing)\n",
        "print(\"Total Demand Application: \", total_demand)\n",
        "print(\"Optimal Staff Members : \", optimal_staff_members)"
      ]
    },
    {
      "cell_type": "markdown",
      "metadata": {
        "id": "8CO6KXr8I-fP"
      },
      "source": [
        "#### 3.1.2 Percentage of outsourced applications "
      ]
    },
    {
      "cell_type": "code",
      "execution_count": null,
      "metadata": {
        "id": "MUveI9-YI-fP",
        "colab": {
          "base_uri": "https://localhost:8080/"
        },
        "outputId": "f9bc647e-39d3-45d6-a1d8-10530b5acc04"
      },
      "outputs": [
        {
          "output_type": "stream",
          "name": "stdout",
          "text": [
            "Total Outsourced Application % is :  35.1\n"
          ]
        }
      ],
      "source": [
        "# write your code here\n",
        "print(\"Total Outsourced Application % is : \", percent_outsourced_app_total)"
      ]
    },
    {
      "cell_type": "markdown",
      "metadata": {
        "id": "vnY8sUR4I-fP"
      },
      "source": [
        "#### 3.1.3 Average cost per application"
      ]
    },
    {
      "cell_type": "code",
      "execution_count": null,
      "metadata": {
        "id": "jBmPysl6I-fQ",
        "colab": {
          "base_uri": "https://localhost:8080/"
        },
        "outputId": "e627322c-3cc5-4b60-cb89-ffd71ee12ebb"
      },
      "outputs": [
        {
          "output_type": "stream",
          "name": "stdout",
          "text": [
            "Average Cost per Application:  173.0\n"
          ]
        }
      ],
      "source": [
        "# write your code here\n",
        "print(\"Average Cost per Application: \", average_cost_per_appln)"
      ]
    },
    {
      "cell_type": "markdown",
      "metadata": {
        "id": "qkCAwlYXI-fQ"
      },
      "source": [
        "### 3.2  Best Case Analysis "
      ]
    },
    {
      "cell_type": "markdown",
      "metadata": {
        "id": "aRB1a12yI-fQ"
      },
      "source": [
        "#### 3.2.1 Optimal number of staff members\n"
      ]
    },
    {
      "cell_type": "code",
      "execution_count": null,
      "metadata": {
        "id": "gWxMUP_VI-fQ"
      },
      "outputs": [],
      "source": [
        "# Creating a model instance\n",
        "modelB = ConcreteModel()"
      ]
    },
    {
      "cell_type": "code",
      "source": [
        "# Define Pyomo sets and Parameters\n",
        "modelB.S = Set(initialize=State.tolist(),doc='States')\n",
        "modelB.M = Set(initialize=Month.tolist(),doc='Months')\n",
        "modelB.demand = Param(modelB.S,modelB.M,initialize = Demand,doc='Demand')\n",
        "modelB.sa = Param(modelB.S,modelB.M,initialize = StaffAv_UB,doc = 'StaffUpperBoundPercent')"
      ],
      "metadata": {
        "id": "P-VcqkO1hdJh"
      },
      "execution_count": null,
      "outputs": []
    },
    {
      "cell_type": "code",
      "execution_count": null,
      "metadata": {
        "id": "I5FCQkw8I-fQ"
      },
      "outputs": [],
      "source": [
        "# Decision variables\n",
        "modelB.F = Var(modelB.S,modelB.M,doc='No. of FTE',domain = NonNegativeReals)\n",
        "modelB.O = Var(modelB.S,modelB.M,doc='No of Outsource App',domain = NonNegativeIntegers)"
      ]
    },
    {
      "cell_type": "code",
      "execution_count": null,
      "metadata": {
        "id": "WI00EaTsI-fR"
      },
      "outputs": [],
      "source": [
        "# Constraints\n",
        "# 1. Demand Constraint\n",
        "\n",
        "def total_demand(m, S, M):\n",
        "    return (m.F[S, M] * 40 * m.sa[S, M] + m.O[S, M] == m.demand[S, M])\n",
        "\n",
        "\n",
        "modelB.total_demand = Constraint(modelB.S, modelB.M, rule=total_demand)\n",
        "\n",
        "# 2. Outsource Demand Constraints\n",
        "modelB.outsource_demand = ConstraintList()\n",
        "for M in modelB.M:\n",
        "    for S in modelB.S:\n",
        "        if S == 'A':\n",
        "            modelB.outsource_demand.add(expr = modelB.O[S,M] <= 0.3*modelB.demand[S,M])\n",
        "        elif S == 'B':\n",
        "            modelB.outsource_demand.add(expr = modelB.O[S,M] <= 0.4*modelB.demand[S,M])"
      ]
    },
    {
      "cell_type": "code",
      "execution_count": null,
      "metadata": {
        "id": "MeqpfkF5I-fR"
      },
      "outputs": [],
      "source": [
        "# Objective function\n",
        "modelB.value = Objective(expr = sum(sum(modelB.F[S,M]*FTE_Sallary[S,M]+ modelB.O[S,M]*UnitOutSourceCost[S,M] for S in modelB.S) for M in modelB.M),sense= minimize)"
      ]
    },
    {
      "cell_type": "code",
      "execution_count": null,
      "metadata": {
        "id": "aSWAa_jQI-fR",
        "colab": {
          "base_uri": "https://localhost:8080/"
        },
        "outputId": "6f55112e-9324-40dd-8502-77ce988dfda9"
      },
      "outputs": [
        {
          "output_type": "stream",
          "name": "stdout",
          "text": [
            "# ==========================================================\n",
            "# = Solver Results                                         =\n",
            "# ==========================================================\n",
            "# ----------------------------------------------------------\n",
            "#   Problem Information\n",
            "# ----------------------------------------------------------\n",
            "Problem: \n",
            "- Name: unknown\n",
            "  Lower bound: 16527535.6377772\n",
            "  Upper bound: 16527535.6377772\n",
            "  Number of objectives: 1\n",
            "  Number of constraints: 61\n",
            "  Number of variables: 73\n",
            "  Number of nonzeros: 97\n",
            "  Sense: minimize\n",
            "# ----------------------------------------------------------\n",
            "#   Solver Information\n",
            "# ----------------------------------------------------------\n",
            "Solver: \n",
            "- Status: ok\n",
            "  Termination condition: optimal\n",
            "  Statistics: \n",
            "    Branch and bound: \n",
            "      Number of bounded subproblems: 0\n",
            "      Number of created subproblems: 0\n",
            "  Error rc: 0\n",
            "  Time: 0.018615007400512695\n",
            "# ----------------------------------------------------------\n",
            "#   Solution Information\n",
            "# ----------------------------------------------------------\n",
            "Solution: \n",
            "- number of solutions: 0\n",
            "  number of solutions displayed: 0\n"
          ]
        }
      ],
      "source": [
        "# Invoking the solver\n",
        "result = SolverFactory('glpk').solve(modelB)\n",
        "result.write()"
      ]
    },
    {
      "cell_type": "code",
      "execution_count": null,
      "metadata": {
        "id": "8yuHRxt4I-fR",
        "colab": {
          "base_uri": "https://localhost:8080/"
        },
        "outputId": "4603405e-c2d3-495d-85c1-366ee59dd7b9"
      },
      "outputs": [
        {
          "output_type": "stream",
          "name": "stdout",
          "text": [
            "16527535.637777213\n",
            "\n",
            "\n",
            " Seems like the company has to spend around 16.53m$ in total for the application approval process if the staffs are working with the maximum availability.\n"
          ]
        }
      ],
      "source": [
        "# Print the value of the objective function\n",
        "# Print the value of the objective function\n",
        "optimized_best_cost = modelB.value()\n",
        "print(optimized_best_cost)\n",
        "print(\"\\n\\n Seems like the company has to spend around {}m$ in total for the application approval process if the staffs are working with the maximum availability.\" .format(round((optimized_best_cost)/1000000,2)))"
      ]
    },
    {
      "cell_type": "markdown",
      "metadata": {
        "id": "Ma_uGCiII-fR"
      },
      "source": [
        "**`Checkpoint 3:`** The company has to spend around 16.5 m$ in total for the application approval process if the staffs are working with the maximum availability."
      ]
    },
    {
      "cell_type": "code",
      "execution_count": null,
      "metadata": {
        "id": "QcvkssGAI-fR",
        "colab": {
          "base_uri": "https://localhost:8080/"
        },
        "outputId": "3fb91dc2-1e3f-4735-c436-6f1e05caca54"
      },
      "outputs": [
        {
          "output_type": "stream",
          "name": "stdout",
          "text": [
            "Total Outsourced Application:  4652\n",
            "Total Demand Application:  113294\n",
            "Optimal Staff Members :  93.0\n"
          ]
        }
      ],
      "source": [
        "# Creating dataframe for the results\n",
        "Output_best = []\n",
        "\n",
        "for S in modelB.S:\n",
        "    for M in modelB.M:\n",
        "        # cost for the application approval process\n",
        "        no_of_fte = modelB.F[S,M].value\n",
        "        demand = modelB.demand[S,M]\n",
        "        no_of_outsource_app = modelB.O[S,M].value\n",
        "        no_of_FTE_processed_app = modelB.F[S,M].value*40*modelB.sa[S,M]\n",
        "        cost = modelB.F[S,M].value*FTE_Sallary[S,M] + modelB.O[S,M].value*UnitOutSourceCost[S,M]\n",
        "\n",
        "        percent_outsourced_app = round((no_of_outsource_app/demand)*100,1)\n",
        "        cost_per_app = round(cost/demand,1)\n",
        "\n",
        "        Output_best.append([S,M, no_of_fte,demand, no_of_outsource_app,no_of_FTE_processed_app, cost, percent_outsourced_app,cost_per_app])\n",
        "\n",
        "Output_best = pd.DataFrame(Output_best, columns = ['State', 'Month', 'No. of FTE best','Demand','Applications processed by Outsource-best',\"Applications processed by FTE-best\" , 'Estimated Cost best', 'Percent outsourced Application best',  'cost per application best'])\n",
        "Output_best[['Estimated Cost in mn $ best']] = Output_best[['Estimated Cost best']]/1000000\n",
        "Output_best['Demand'] = Output_best['Demand'].astype(int)\n",
        "Output_best['Applications processed by Outsource-best'] = Output_best['Applications processed by Outsource-best'].astype(int)\n",
        "Output_best['Applications processed by FTE-best'] = Output_best['Applications processed by FTE-best'].astype(int)\n",
        "Output_best = Output_best.round({\"No. of FTE best\":1, \"No. of outsource application best\":0, \"Estimated Cost in mn $ best\":1})\n",
        "#Output_best[['Cost per application best']] = Output_best['Estimated Cost best']/Output_best['Demand']\n",
        "\n",
        "total_outsourcing =  sum(Output_best['Applications processed by Outsource-best'])\n",
        "total_cost = sum(Output_best['Estimated Cost best'])\n",
        "optimal_staff_members = round(Output_best['No. of FTE best'].mean(),0)\n",
        "\n",
        "total_demand =  sum(Output_best['Demand'])\n",
        "average_cost_per_appln = round(total_cost/total_demand,2)\n",
        "percent_outsourced_app_total = round((total_outsourcing/total_demand)*100,1)\n",
        "print(\"Total Outsourced Application: \", total_outsourcing)\n",
        "print(\"Total Demand Application: \", total_demand)\n",
        "print(\"Optimal Staff Members : \", optimal_staff_members)"
      ]
    },
    {
      "cell_type": "markdown",
      "metadata": {
        "id": "tJAJ4Dk8I-fS"
      },
      "source": [
        "#### 3.2.2 Percentage of outsourced applications"
      ]
    },
    {
      "cell_type": "code",
      "execution_count": null,
      "metadata": {
        "id": "ApRV6jvfI-fS",
        "colab": {
          "base_uri": "https://localhost:8080/"
        },
        "outputId": "d1ee6f95-f9b4-4285-ceea-e9fe6b7ac5ca"
      },
      "outputs": [
        {
          "output_type": "stream",
          "name": "stdout",
          "text": [
            "Total Outsourced Application % is :  4.1\n"
          ]
        }
      ],
      "source": [
        "# write your code here\n",
        "print(\"Total Outsourced Application % is : \", percent_outsourced_app_total)"
      ]
    },
    {
      "cell_type": "markdown",
      "metadata": {
        "id": "WBnSiUxmI-fS"
      },
      "source": [
        "#### 3.2.3 Average cost per application"
      ]
    },
    {
      "cell_type": "code",
      "execution_count": null,
      "metadata": {
        "id": "pLH8SWisI-fS",
        "colab": {
          "base_uri": "https://localhost:8080/"
        },
        "outputId": "19874bba-11c4-407c-b468-84d92e3904bb"
      },
      "outputs": [
        {
          "output_type": "stream",
          "name": "stdout",
          "text": [
            "Average Cost per Application:  145.88\n"
          ]
        }
      ],
      "source": [
        "# write your code here\n",
        "print(\"Average Cost per Application: \", average_cost_per_appln)"
      ]
    },
    {
      "cell_type": "markdown",
      "metadata": {
        "id": "a0P9GeVTI-fS"
      },
      "source": [
        "# Question 4\n",
        "\n",
        "#### Creating Visualisations"
      ]
    },
    {
      "cell_type": "markdown",
      "metadata": {
        "id": "6bh3VEfBI-fS"
      },
      "source": [
        "Create the following visualisations using your preferred method (i.e. Python, PowerPoint, Power BI, etc.) and add it to your report. \n",
        "\n",
        "Use the solution of Q2 to create a stacked column chart that shows the percentage of applications processed by the staff and by the vendor for each month (%staff processed applications+ %vendor processed applications should add up to 100%). \n",
        "Create a graph to show how the cost per application increases with respect to any change in the parameters in your analysis.\n",
        "Hint: Use the cost per application that you calculate in Questions 2 and 3 (i.e., the best case, and the worst case). "
      ]
    },
    {
      "cell_type": "markdown",
      "metadata": {
        "id": "LOziXQ82I-fT"
      },
      "source": [
        "**Note:** You can create the charts in Python or some other visualisation tools and make it a part of your final report directly."
      ]
    },
    {
      "cell_type": "code",
      "source": [
        "#creating excel files\n",
        "path1 = '/content/gdrive/MyDrive/Colab Notebooks/Output.xlsx'\n",
        "Output_optimised.to_excel(path1, sheet_name = 'Optimised Sheet')\n",
        "Output_worst.to_excel(path1, sheet_name = 'Worst case')\n",
        "Output_best.to_excel(path1, sheet_name = 'Best case')"
      ],
      "metadata": {
        "id": "ovsjpfrG_JPi"
      },
      "execution_count": null,
      "outputs": []
    }
  ],
  "metadata": {
    "kernelspec": {
      "display_name": "Python 3",
      "language": "python",
      "name": "python3"
    },
    "language_info": {
      "codemirror_mode": {
        "name": "ipython",
        "version": 3
      },
      "file_extension": ".py",
      "mimetype": "text/x-python",
      "name": "python",
      "nbconvert_exporter": "python",
      "pygments_lexer": "ipython3",
      "version": "3.7.4"
    },
    "colab": {
      "provenance": []
    }
  },
  "nbformat": 4,
  "nbformat_minor": 0
}